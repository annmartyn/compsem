{
 "cells": [
  {
   "cell_type": "markdown",
   "id": "ae4de5cc",
   "metadata": {},
   "source": [
    "Импортируем все необходимые библиотеки и скачиваем модель"
   ]
  },
  {
   "cell_type": "code",
   "execution_count": 1,
   "id": "6261ea66",
   "metadata": {},
   "outputs": [],
   "source": [
    "import collections"
   ]
  },
  {
   "cell_type": "code",
   "execution_count": 2,
   "id": "f4d2cd30",
   "metadata": {},
   "outputs": [],
   "source": [
    "import sys\n",
    "import gensim, logging\n",
    "import scipy\n",
    "import scipy.cluster.hierarchy as hcluster\n",
    "import matplotlib.pyplot as plt\n",
    "\n",
    "logging.basicConfig(format='%(asctime)s : %(levelname)s : %(message)s', level=logging.INFO)"
   ]
  },
  {
   "cell_type": "code",
   "execution_count": 3,
   "id": "aed9acf3",
   "metadata": {},
   "outputs": [],
   "source": [
    "from gensim.models.word2vec import Word2Vec\n",
    "from gensim.models import KeyedVectors\n",
    "\n",
    "import numpy as np"
   ]
  },
  {
   "cell_type": "code",
   "execution_count": 4,
   "id": "51912512",
   "metadata": {},
   "outputs": [
    {
     "name": "stdout",
     "output_type": "stream",
     "text": [
      " 99% [..................................................................... ] 483246080 / 484452317"
     ]
    },
    {
     "name": "stderr",
     "output_type": "stream",
     "text": [
      "2022-02-12 15:31:19,208 : INFO : loading projection weights from <zipfile.ZipExtFile name='model.bin' mode='r' compress_type=deflate>\n"
     ]
    },
    {
     "name": "stdout",
     "output_type": "stream",
     "text": [
      "\r",
      " 99% [..................................................................... ] 483254272 / 484452317\r",
      " 99% [..................................................................... ] 483262464 / 484452317\r",
      " 99% [..................................................................... ] 483270656 / 484452317\r",
      " 99% [..................................................................... ] 483278848 / 484452317\r",
      " 99% [..................................................................... ] 483287040 / 484452317\r",
      " 99% [..................................................................... ] 483295232 / 484452317\r",
      " 99% [..................................................................... ] 483303424 / 484452317\r",
      " 99% [..................................................................... ] 483311616 / 484452317\r",
      " 99% [..................................................................... ] 483319808 / 484452317\r",
      " 99% [..................................................................... ] 483328000 / 484452317\r",
      " 99% [..................................................................... ] 483336192 / 484452317\r",
      " 99% [..................................................................... ] 483344384 / 484452317\r",
      " 99% [..................................................................... ] 483352576 / 484452317\r",
      " 99% [..................................................................... ] 483360768 / 484452317\r",
      " 99% [..................................................................... ] 483368960 / 484452317\r",
      " 99% [..................................................................... ] 483377152 / 484452317\r",
      " 99% [..................................................................... ] 483385344 / 484452317\r",
      " 99% [..................................................................... ] 483393536 / 484452317\r",
      " 99% [..................................................................... ] 483401728 / 484452317\r",
      " 99% [..................................................................... ] 483409920 / 484452317\r",
      " 99% [..................................................................... ] 483418112 / 484452317\r",
      " 99% [..................................................................... ] 483426304 / 484452317\r",
      " 99% [..................................................................... ] 483434496 / 484452317\r",
      " 99% [..................................................................... ] 483442688 / 484452317\r",
      " 99% [..................................................................... ] 483450880 / 484452317\r",
      " 99% [..................................................................... ] 483459072 / 484452317\r",
      " 99% [..................................................................... ] 483467264 / 484452317\r",
      " 99% [..................................................................... ] 483475456 / 484452317\r",
      " 99% [..................................................................... ] 483483648 / 484452317\r",
      " 99% [..................................................................... ] 483491840 / 484452317\r",
      " 99% [..................................................................... ] 483500032 / 484452317\r",
      " 99% [..................................................................... ] 483508224 / 484452317\r",
      " 99% [..................................................................... ] 483516416 / 484452317\r",
      " 99% [..................................................................... ] 483524608 / 484452317\r",
      " 99% [..................................................................... ] 483532800 / 484452317\r",
      " 99% [..................................................................... ] 483540992 / 484452317\r",
      " 99% [..................................................................... ] 483549184 / 484452317\r",
      " 99% [..................................................................... ] 483557376 / 484452317\r",
      " 99% [..................................................................... ] 483565568 / 484452317\r",
      " 99% [..................................................................... ] 483573760 / 484452317\r",
      " 99% [..................................................................... ] 483581952 / 484452317\r",
      " 99% [..................................................................... ] 483590144 / 484452317\r",
      " 99% [..................................................................... ] 483598336 / 484452317\r",
      " 99% [..................................................................... ] 483606528 / 484452317\r",
      " 99% [..................................................................... ] 483614720 / 484452317\r",
      " 99% [..................................................................... ] 483622912 / 484452317\r",
      " 99% [..................................................................... ] 483631104 / 484452317\r",
      " 99% [..................................................................... ] 483639296 / 484452317\r",
      " 99% [..................................................................... ] 483647488 / 484452317\r",
      " 99% [..................................................................... ] 483655680 / 484452317\r",
      " 99% [..................................................................... ] 483663872 / 484452317\r",
      " 99% [..................................................................... ] 483672064 / 484452317\r",
      " 99% [..................................................................... ] 483680256 / 484452317\r",
      " 99% [..................................................................... ] 483688448 / 484452317\r",
      " 99% [..................................................................... ] 483696640 / 484452317\r",
      " 99% [..................................................................... ] 483704832 / 484452317\r",
      " 99% [..................................................................... ] 483713024 / 484452317\r",
      " 99% [..................................................................... ] 483721216 / 484452317\r",
      " 99% [..................................................................... ] 483729408 / 484452317\r",
      " 99% [..................................................................... ] 483737600 / 484452317\r",
      " 99% [..................................................................... ] 483745792 / 484452317\r",
      " 99% [..................................................................... ] 483753984 / 484452317\r",
      " 99% [..................................................................... ] 483762176 / 484452317\r",
      " 99% [..................................................................... ] 483770368 / 484452317\r",
      " 99% [..................................................................... ] 483778560 / 484452317\r",
      " 99% [..................................................................... ] 483786752 / 484452317\r",
      " 99% [..................................................................... ] 483794944 / 484452317\r",
      " 99% [..................................................................... ] 483803136 / 484452317\r",
      " 99% [..................................................................... ] 483811328 / 484452317\r",
      " 99% [..................................................................... ] 483819520 / 484452317\r",
      " 99% [..................................................................... ] 483827712 / 484452317\r",
      " 99% [..................................................................... ] 483835904 / 484452317\r",
      " 99% [..................................................................... ] 483844096 / 484452317\r",
      " 99% [..................................................................... ] 483852288 / 484452317\r",
      " 99% [..................................................................... ] 483860480 / 484452317\r",
      " 99% [..................................................................... ] 483868672 / 484452317\r",
      " 99% [..................................................................... ] 483876864 / 484452317\r",
      " 99% [..................................................................... ] 483885056 / 484452317\r",
      " 99% [..................................................................... ] 483893248 / 484452317\r",
      " 99% [..................................................................... ] 483901440 / 484452317\r",
      " 99% [..................................................................... ] 483909632 / 484452317\r",
      " 99% [..................................................................... ] 483917824 / 484452317\r",
      " 99% [..................................................................... ] 483926016 / 484452317\r",
      " 99% [..................................................................... ] 483934208 / 484452317\r",
      " 99% [..................................................................... ] 483942400 / 484452317\r",
      " 99% [..................................................................... ] 483950592 / 484452317\r",
      " 99% [..................................................................... ] 483958784 / 484452317\r",
      " 99% [..................................................................... ] 483966976 / 484452317\r",
      " 99% [..................................................................... ] 483975168 / 484452317\r",
      " 99% [..................................................................... ] 483983360 / 484452317\r",
      " 99% [..................................................................... ] 483991552 / 484452317\r",
      " 99% [..................................................................... ] 483999744 / 484452317\r",
      " 99% [..................................................................... ] 484007936 / 484452317\r",
      " 99% [..................................................................... ] 484016128 / 484452317\r",
      " 99% [..................................................................... ] 484024320 / 484452317\r",
      " 99% [..................................................................... ] 484032512 / 484452317\r",
      " 99% [..................................................................... ] 484040704 / 484452317\r",
      " 99% [..................................................................... ] 484048896 / 484452317\r",
      " 99% [..................................................................... ] 484057088 / 484452317\r",
      " 99% [..................................................................... ] 484065280 / 484452317\r",
      " 99% [..................................................................... ] 484073472 / 484452317\r",
      " 99% [..................................................................... ] 484081664 / 484452317\r",
      " 99% [..................................................................... ] 484089856 / 484452317\r",
      " 99% [..................................................................... ] 484098048 / 484452317\r",
      " 99% [..................................................................... ] 484106240 / 484452317\r",
      " 99% [..................................................................... ] 484114432 / 484452317\r",
      " 99% [..................................................................... ] 484122624 / 484452317\r",
      " 99% [..................................................................... ] 484130816 / 484452317\r",
      " 99% [..................................................................... ] 484139008 / 484452317\r",
      " 99% [..................................................................... ] 484147200 / 484452317\r",
      " 99% [..................................................................... ] 484155392 / 484452317\r",
      " 99% [..................................................................... ] 484163584 / 484452317\r",
      " 99% [..................................................................... ] 484171776 / 484452317\r",
      " 99% [..................................................................... ] 484179968 / 484452317\r",
      " 99% [..................................................................... ] 484188160 / 484452317\r",
      " 99% [..................................................................... ] 484196352 / 484452317\r",
      " 99% [..................................................................... ] 484204544 / 484452317\r",
      " 99% [..................................................................... ] 484212736 / 484452317\r",
      " 99% [..................................................................... ] 484220928 / 484452317\r",
      " 99% [..................................................................... ] 484229120 / 484452317\r",
      " 99% [..................................................................... ] 484237312 / 484452317\r",
      " 99% [..................................................................... ] 484245504 / 484452317\r",
      " 99% [..................................................................... ] 484253696 / 484452317\r",
      " 99% [..................................................................... ] 484261888 / 484452317\r",
      " 99% [..................................................................... ] 484270080 / 484452317\r",
      " 99% [..................................................................... ] 484278272 / 484452317\r",
      " 99% [..................................................................... ] 484286464 / 484452317\r",
      " 99% [..................................................................... ] 484294656 / 484452317\r",
      " 99% [..................................................................... ] 484302848 / 484452317\r",
      " 99% [..................................................................... ] 484311040 / 484452317\r",
      " 99% [..................................................................... ] 484319232 / 484452317\r",
      " 99% [..................................................................... ] 484327424 / 484452317\r",
      " 99% [..................................................................... ] 484335616 / 484452317\r",
      " 99% [..................................................................... ] 484343808 / 484452317\r",
      " 99% [..................................................................... ] 484352000 / 484452317\r",
      " 99% [..................................................................... ] 484360192 / 484452317\r",
      " 99% [..................................................................... ] 484368384 / 484452317\r",
      " 99% [..................................................................... ] 484376576 / 484452317\r",
      " 99% [..................................................................... ] 484384768 / 484452317\r",
      " 99% [..................................................................... ] 484392960 / 484452317\r",
      " 99% [..................................................................... ] 484401152 / 484452317\r",
      " 99% [..................................................................... ] 484409344 / 484452317\r",
      " 99% [..................................................................... ] 484417536 / 484452317\r",
      " 99% [..................................................................... ] 484425728 / 484452317\r",
      " 99% [..................................................................... ] 484433920 / 484452317\r",
      " 99% [..................................................................... ] 484442112 / 484452317\r",
      " 99% [..................................................................... ] 484450304 / 484452317\r",
      "100% [......................................................................] 484452317 / 484452317"
     ]
    },
    {
     "name": "stderr",
     "output_type": "stream",
     "text": [
      "2022-02-12 15:31:26,146 : INFO : KeyedVectors lifecycle event {'msg': 'loaded (189193, 300) matrix of type float32 from <zipfile.ZipExtFile [closed]>', 'binary': True, 'encoding': 'utf8', 'datetime': '2022-02-12T15:31:26.146409', 'gensim': '4.1.2', 'python': '3.10.0 (tags/v3.10.0:b494f59, Oct  4 2021, 19:00:18) [MSC v.1929 64 bit (AMD64)]', 'platform': 'Windows-10-10.0.22000-SP0', 'event': 'load_word2vec_format'}\n"
     ]
    }
   ],
   "source": [
    "import zipfile\n",
    "import wget\n",
    "\n",
    "model_url = 'http://vectors.nlpl.eu/repository/20/180.zip'\n",
    "m = wget.download(model_url)\n",
    "model_file = model_url.split('/')[-1]\n",
    "with zipfile.ZipFile(model_file, 'r') as archive:\n",
    "    stream = archive.open('model.bin')\n",
    "    model = gensim.models.KeyedVectors.load_word2vec_format(stream, binary=True)"
   ]
  },
  {
   "cell_type": "code",
   "execution_count": 5,
   "id": "b690da9e",
   "metadata": {},
   "outputs": [
    {
     "name": "stderr",
     "output_type": "stream",
     "text": [
      "2022-02-12 15:31:26,159 : INFO : KeyedVectors lifecycle event {'fname_or_handle': 'word2vec.model', 'separately': 'None', 'sep_limit': 10485760, 'ignore': frozenset(), 'datetime': '2022-02-12T15:31:26.159840', 'gensim': '4.1.2', 'python': '3.10.0 (tags/v3.10.0:b494f59, Oct  4 2021, 19:00:18) [MSC v.1929 64 bit (AMD64)]', 'platform': 'Windows-10-10.0.22000-SP0', 'event': 'saving'}\n",
      "2022-02-12 15:31:26,162 : INFO : storing np array 'vectors' to word2vec.model.vectors.npy\n",
      "2022-02-12 15:31:26,869 : INFO : saved word2vec.model\n"
     ]
    }
   ],
   "source": [
    "model.save(\"word2vec.model\") "
   ]
  },
  {
   "cell_type": "markdown",
   "id": "40a93a32",
   "metadata": {},
   "source": [
    "Достаем все существительные, чтобы потом их векторизовать."
   ]
  },
  {
   "cell_type": "code",
   "execution_count": 6,
   "id": "db2702c7",
   "metadata": {},
   "outputs": [],
   "source": [
    "verb = 'играть_VERB'\n",
    "nouns = []\n",
    "with open(\"HW2_igrat'.txt\", 'r', encoding='utf-8') as file:\n",
    "    f = file.readlines()\n",
    "    for line in f:\n",
    "        add = line.split('\\t')\n",
    "        nouns.append(str(add[0].split('_')[1]) + '_NOUN')"
   ]
  },
  {
   "cell_type": "markdown",
   "id": "af306940",
   "metadata": {},
   "source": [
    "Заводим переменную для вектора глагола и матрицу, в которой буду храниться все значения словосочетаний. "
   ]
  },
  {
   "cell_type": "code",
   "execution_count": 7,
   "id": "8d7e70f1",
   "metadata": {},
   "outputs": [],
   "source": [
    "verb_vector = np.array(model['играть_VERB'])\n",
    "add_matrix = []"
   ]
  },
  {
   "cell_type": "code",
   "execution_count": 8,
   "id": "941906bd",
   "metadata": {},
   "outputs": [],
   "source": [
    "d = {}\n",
    "for n in nouns:\n",
    "    if n in model:\n",
    "        add_matrix.append(verb_vector + np.array(model[n]))"
   ]
  },
  {
   "cell_type": "code",
   "execution_count": 9,
   "id": "82c6f8aa",
   "metadata": {},
   "outputs": [],
   "source": [
    "add_matrix = np.array(add_matrix)"
   ]
  },
  {
   "cell_type": "markdown",
   "id": "15287637",
   "metadata": {},
   "source": [
    "#### Иерархическая кластеризация\n",
    "Поигравшись с параметрами, находим такие, при которых у нас есть 16 кластеров (так при методе simple количество кластеров было либо 1, либо 71). "
   ]
  },
  {
   "cell_type": "code",
   "execution_count": 10,
   "id": "3be37de8",
   "metadata": {},
   "outputs": [
    {
     "data": {
      "image/png": "[encoded data removed]",
      "text/plain": [
       "<Figure size 1296x432 with 1 Axes>"
      ]
     },
     "metadata": {
      "needs_background": "light"
     },
     "output_type": "display_data"
    }
   ],
   "source": [
    "Z = hcluster.linkage(add_matrix, method='complete', metric='euclidean')\n",
    "plt.figure(figsize=(18, 6))\n",
    "dn = hcluster.dendrogram(Z)\n",
    "plt.show()"
   ]
  },
  {
   "cell_type": "code",
   "execution_count": 11,
   "id": "399945c1",
   "metadata": {},
   "outputs": [
    {
     "name": "stdout",
     "output_type": "stream",
     "text": [
      "Estimated number of clusters: 16\n"
     ]
    }
   ],
   "source": [
    "clusters = hcluster.fclusterdata(Z, 1.15)\n",
    "print('Estimated number of clusters: %d' % len(set(clusters)))"
   ]
  },
  {
   "cell_type": "code",
   "execution_count": 12,
   "id": "5b12be24",
   "metadata": {},
   "outputs": [
    {
     "data": {
      "text/plain": [
       "array([12, 10,  4,  4,  6,  6, 10, 10, 10,  7,  7, 10, 10,  6, 10, 10, 10,\n",
       "       10, 10, 10,  7,  7,  6, 10, 10, 10, 10, 10,  7, 10, 10, 10, 10, 10,\n",
       "       10, 10, 10, 10,  5, 10, 10, 10, 10, 10,  5, 10, 10, 10, 10,  5, 10,\n",
       "       10, 10, 10, 10, 10, 10, 10, 13, 10, 10, 10, 10, 10,  8,  3,  7, 10,\n",
       "       10, 10, 10, 10, 11, 10, 10,  9, 10, 10, 10, 10,  3, 10, 10, 10, 10,\n",
       "       10, 10,  3, 10,  3, 14, 15,  2, 10,  3, 10, 10, 10, 10,  2, 10, 10,\n",
       "       10,  1, 10, 10,  1,  1,  1, 16], dtype=int32)"
      ]
     },
     "execution_count": 12,
     "metadata": {},
     "output_type": "execute_result"
    }
   ],
   "source": [
    "clusters"
   ]
  },
  {
   "cell_type": "markdown",
   "id": "f404f16d",
   "metadata": {},
   "source": [
    "Посмотрим, в каких кластерах больше двух словосочетаний."
   ]
  },
  {
   "cell_type": "code",
   "execution_count": 13,
   "id": "6f5ea1bc",
   "metadata": {},
   "outputs": [
    {
     "data": {
      "text/plain": [
       "[(10, 76), (7, 6), (3, 5), (6, 4), (1, 4), (5, 3)]"
      ]
     },
     "execution_count": 13,
     "metadata": {},
     "output_type": "execute_result"
    }
   ],
   "source": [
    "collections.Counter(clusters).most_common(6)\n",
    "#10, 7, 3, 6, 1, 5"
   ]
  },
  {
   "cell_type": "markdown",
   "id": "0a233975",
   "metadata": {},
   "source": [
    "Соберём индексы всех словосочетаний, чтобы потом искать среднее"
   ]
  },
  {
   "cell_type": "code",
   "execution_count": 14,
   "id": "f22b8922",
   "metadata": {},
   "outputs": [],
   "source": [
    "c = 0\n",
    "c10 = []\n",
    "c1 = []\n",
    "c3 = []\n",
    "c5 = []\n",
    "c6 = []\n",
    "c7 = []\n",
    "for cluster in clusters:\n",
    "    if cluster == 10:\n",
    "        c10.append(c)\n",
    "    elif cluster == 1:\n",
    "        c1.append(c)\n",
    "    elif cluster == 3:\n",
    "        c3.append(c)\n",
    "    elif cluster == 5:\n",
    "        c5.append(c)\n",
    "    elif cluster == 6:\n",
    "        c6.append(c)\n",
    "    elif cluster == 7:\n",
    "        c7.append(c)\n",
    "    c += 1"
   ]
  },
  {
   "cell_type": "markdown",
   "id": "b389c3a3",
   "metadata": {},
   "source": [
    "дальше в функции я пользуюсь тем, что индекс вектора слова в матрице и индекс слова в списке существительных одинаковый"
   ]
  },
  {
   "cell_type": "code",
   "execution_count": 26,
   "id": "b82fa878",
   "metadata": {},
   "outputs": [],
   "source": [
    "def get_center(index_list):\n",
    "    m = {}\n",
    "    centroids = []\n",
    "    cl_matrix = []\n",
    "    for ind in index_list:\n",
    "        cl_matrix.append(add_matrix[ind])\n",
    "    center = np.mean(cl_matrix, axis = 0)\n",
    "    for i in index_list:\n",
    "        m[ds.cosine(center, add_matrix[i])] = nouns[i]\n",
    "    closest = sorted(m.keys())[0:3]\n",
    "    for d in closest:\n",
    "        centroids.append('играть_'+ str(m[d].split('_')[0]))\n",
    "    return center, centroids"
   ]
  },
  {
   "cell_type": "code",
   "execution_count": 29,
   "id": "21e93710",
   "metadata": {},
   "outputs": [],
   "source": [
    "center10, centroids10 = get_center(c10)\n",
    "center1, centroids1 = get_center(c1)\n",
    "center3, centroids3 = get_center(c3)\n",
    "center5, centroids5 = get_center(c5)\n",
    "center6, centroids6 = get_center(c6)\n",
    "center7, centroids7 = get_center(c7)"
   ]
  },
  {
   "cell_type": "markdown",
   "id": "756d5c62",
   "metadata": {},
   "source": [
    "Получаем центры кластеров, результаты обсудим ниже.\n",
    "Пока сделаем то же для к-средних"
   ]
  },
  {
   "cell_type": "code",
   "execution_count": 33,
   "id": "0f476a06",
   "metadata": {},
   "outputs": [
    {
     "name": "stdout",
     "output_type": "stream",
     "text": [
      "['играть_утро', 'играть_процесс', 'играть_дело']\n",
      "['играть_трубач', 'играть_звезда', 'играть_шарманка']\n",
      "['играть_девушка', 'играть_сцена', 'играть_рука']\n",
      "['играть_актер', 'играть_человек', 'играть_жизнь']\n",
      "['играть_дитя', 'играть_девочка', 'играть_актриса']\n",
      "['играть_россия', 'играть_старуха', 'играть_игра']\n"
     ]
    }
   ],
   "source": [
    "print(centroids1)\n",
    "print(centroids3)\n",
    "print(centroids5)\n",
    "print(centroids6)\n",
    "print(centroids7)\n",
    "print(centroids10)"
   ]
  },
  {
   "cell_type": "markdown",
   "id": "41a2de3a",
   "metadata": {},
   "source": [
    "Про количество кластеров: при числе 7 в каждый кластер входит 4+ слов, так что оставим так (при 8 кластерах уже есть кластеры в 2 слова)"
   ]
  },
  {
   "cell_type": "code",
   "execution_count": 43,
   "id": "18d4426a",
   "metadata": {},
   "outputs": [
    {
     "data": {
      "text/plain": [
       "array([4, 6, 5, 6, 0, 5, 6, 6, 6, 1, 5, 0, 0, 5, 6, 0, 2, 6, 2, 3, 6, 2,\n",
       "       3, 0, 6, 6, 1, 2, 0, 1, 2, 6, 5, 4, 3, 5, 3, 1, 2, 5, 6, 3, 5, 6,\n",
       "       0, 5, 2, 0, 5, 2, 6, 1, 6, 2, 6, 5, 6, 6, 2, 1, 6, 5, 2, 2, 6, 6,\n",
       "       3, 6, 6, 5, 5, 6, 6, 4, 4, 1, 5, 4, 5, 1, 2, 0, 4, 5, 1, 6, 6, 6,\n",
       "       5, 3, 6, 6, 6, 6, 6, 2, 4, 5, 5, 0, 2, 5, 6, 1, 4, 6, 3, 5, 6, 2,\n",
       "       2])"
      ]
     },
     "execution_count": 43,
     "metadata": {},
     "output_type": "execute_result"
    }
   ],
   "source": [
    "from sklearn.cluster import KMeans\n",
    "kmeans = KMeans(n_clusters=7).fit(add_matrix)\n",
    "kmeans.labels_"
   ]
  },
  {
   "cell_type": "code",
   "execution_count": 44,
   "id": "9cefaa70",
   "metadata": {},
   "outputs": [
    {
     "data": {
      "text/plain": [
       "[(6, 36), (5, 22), (2, 17), (0, 10), (1, 10), (4, 8), (3, 8)]"
      ]
     },
     "execution_count": 44,
     "metadata": {},
     "output_type": "execute_result"
    }
   ],
   "source": [
    "collections.Counter(kmeans.labels_)\n",
    "#0-6"
   ]
  },
  {
   "cell_type": "code",
   "execution_count": 45,
   "id": "e3629986",
   "metadata": {},
   "outputs": [],
   "source": [
    "c = 0\n",
    "k0 = []\n",
    "k1 = []\n",
    "k2 = []\n",
    "k3 = []\n",
    "k4 = []\n",
    "k5 = []\n",
    "k6 = []\n",
    "for cluster in kmeans.labels_:\n",
    "    if cluster == 0:\n",
    "        k0.append(c)\n",
    "    elif cluster == 1:\n",
    "        k1.append(c)\n",
    "    elif cluster == 2:\n",
    "        k2.append(c)\n",
    "    elif cluster == 3:\n",
    "        k3.append(c)\n",
    "    elif cluster == 4:\n",
    "        k4.append(c)\n",
    "    elif cluster == 5:\n",
    "        k5.append(c)\n",
    "    elif cluster == 6:\n",
    "        k6.append(c)\n",
    "    c += 1"
   ]
  },
  {
   "cell_type": "code",
   "execution_count": 46,
   "id": "9979715e",
   "metadata": {},
   "outputs": [],
   "source": [
    "k_center0, k_centroids0 = get_center(k0)\n",
    "k_center1, k_centroids1 = get_center(k1)\n",
    "k_center3, k_centroids3 = get_center(k3)\n",
    "k_center5, k_centroids5 = get_center(k5)\n",
    "k_center6, k_centroids6 = get_center(k6)\n",
    "k_center2, k_centroids2 = get_center(k2)\n",
    "k_center4, k_centroids4 = get_center(k4)"
   ]
  },
  {
   "cell_type": "code",
   "execution_count": 48,
   "id": "0409c808",
   "metadata": {},
   "outputs": [
    {
     "name": "stdout",
     "output_type": "stream",
     "text": [
      "['играть_актер', 'играть_спектакль', 'играть_артист']\n",
      "['играть_солнце', 'играть_лицо', 'играть_свет']\n",
      "['играть_мальчик', 'играть_девочка', 'играть_мальчишка']\n",
      "['играть_вечер', 'играть_день', 'играть_моцарт']\n",
      "['играть_молчанка', 'играть_труппа', 'играть_матч']\n",
      "['играть_дитя', 'играть_гамлет', 'играть_отец']\n",
      "['играть_трубач', 'играть_россия', 'играть_старуха']\n"
     ]
    }
   ],
   "source": [
    "print(k_centroids0)\n",
    "print(k_centroids1)\n",
    "print(k_centroids2)\n",
    "print(k_centroids3)\n",
    "print(k_centroids4)\n",
    "print(k_centroids5)\n",
    "print(k_centroids6)"
   ]
  },
  {
   "cell_type": "markdown",
   "id": "d5d0a7dd",
   "metadata": {},
   "source": [
    "#### Перёдем к анализу результатов\n",
    "Сначала посмотрим на результат иерхарической кластеризации. Честно говоря, я не очень довольна результатами: например, если *девочка* и *дитя* довольно схожи, причем они как раз могут использоваться в одних контекстах (девочка/дитя играет с игрушкой на полу), то *актриса* сюда особо не походит, хотя подошла бы к *актеру* из соседнего кластера.\n",
    "Результаты в k-means мне нравятся больше. Тут уже вместе идут слова *актер* и *артист* (где *актриса* мы не знаем, но, возможно, там же), *солнце* и *свет* - слова которые скорее не встанут в одну позицию в предложении, но при этом имеют схожую семантику света. С другой стороны, тут тоже есть проблемы: например, *Россия* и *трубач*, кажется, не очень соединяются"
   ]
  },
  {
   "cell_type": "code",
   "execution_count": null,
   "id": "e669709d",
   "metadata": {},
   "outputs": [],
   "source": []
  }
 ],
 "metadata": {
  "kernelspec": {
   "display_name": "Python 3 (ipykernel)",
   "language": "python",
   "name": "python3"
  },
  "language_info": {
   "codemirror_mode": {
    "name": "ipython",
    "version": 3
   },
   "file_extension": ".py",
   "mimetype": "text/x-python",
   "name": "python",
   "nbconvert_exporter": "python",
   "pygments_lexer": "ipython3",
   "version": "3.10.0"
  }
 },
 "nbformat": 4,
 "nbformat_minor": 5
}
